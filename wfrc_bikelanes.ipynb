{
 "cells": [
  {
   "cell_type": "code",
   "execution_count": 1,
   "metadata": {},
   "outputs": [],
   "source": [
    "import arcpy\n",
    "import pandas as pd\n",
    "import os\n",
    "import wfrc_bike_lanes as wfrc"
   ]
  },
  {
   "cell_type": "code",
   "execution_count": 1,
   "metadata": {},
   "outputs": [
    {
     "data": {
      "text/plain": [
       "<Result 'C:\\\\giswork\\\\multimodal\\\\bikelanes\\\\WorkingData.gdb'>"
      ]
     },
     "execution_count": 1,
     "metadata": {},
     "output_type": "execute_result"
    }
   ],
   "source": [
    "wfrc_bike_lanes = r'C:\\giswork\\multimodal\\bikelanes\\SourceData.gdb\\Bike_Network_WFRC'\n",
    "existing_status_field = 'Status'\n",
    "network_field = 'Network'\n",
    "lane_type_field = 'Type'\n",
    "\n",
    "roads = r'C:\\Users\\kwalker\\Documents\\ArcGIS\\Projects\\MultiModal bike lanes\\UTRANS.agrc.utah.gov.sde\\UTRANS.TRANSADMIN.Roads_Edit'\n",
    "\n",
    "working_dir = r'C:\\giswork\\multimodal\\bikelanes'\n",
    "working_data_gdb_name = r'WorkingData.gdb'\n",
    "working_data_gdb = os.path.join(working_dir, working_data_gdb_name)\n",
    "\n",
    "if not os.path.exists(working_dir):\n",
    "    os.mkdir(working_dir)\n",
    "\n",
    "if arcpy.Exists(working_data_gdb):\n",
    "    arcpy.management.Delete(working_data_gdb)\n",
    "\n",
    "arcpy.management.CreateFileGDB(working_dir, working_data_gdb_name)"
   ]
  },
  {
   "cell_type": "code",
   "execution_count": 2,
   "metadata": {},
   "outputs": [],
   "source": [
    "# Select Regional and exitisting bike lanes\n",
    "if arcpy.Exists('existing_regional'):\n",
    "    arcpy.management.Delete('existing_regional')\n",
    "    \n",
    "existing_regional_lanes = arcpy.management.MakeFeatureLayer(\n",
    "wfrc_bike_lanes,\n",
    "'existing_regional',\n",
    "\"\"\"{} = 'Regional' And {} = 'Existing'\"\"\".format(network_field, existing_status_field))[0]"
   ]
  },
  {
   "cell_type": "code",
   "execution_count": 3,
   "metadata": {},
   "outputs": [],
   "source": [
    "# Buffer bike lanes and merge buffer by Status and Type\n",
    "bikelane_buffer_dist = 4\n",
    "merge_fields = [existing_status_field, lane_type_field]\n",
    "wfrc_bike_buffer = wfrc.buffer_bike_lanes(existing_regional_lanes, merge_fields, working_data_gdb, bikelane_buffer_dist)"
   ]
  },
  {
   "cell_type": "code",
   "execution_count": 4,
   "metadata": {},
   "outputs": [],
   "source": [
    "# Find all roads within a bike lane buffer\n",
    "wrfc_buffer_roads_join = wfrc.join_roads_to_bike_buffer(roads, wfrc_bike_buffer, working_data_gdb)"
   ]
  },
  {
   "cell_type": "code",
   "execution_count": 5,
   "metadata": {},
   "outputs": [],
   "source": [
    "dataframe = wfrc.get_unique_lane_types(wrfc_buffer_roads_join, lane_type_field, working_data_gdb)"
   ]
  },
  {
   "cell_type": "code",
   "execution_count": 6,
   "metadata": {},
   "outputs": [
    {
     "data": {
      "text/plain": [
       "([],                   Type\n",
       " 0       Bike Boulevard\n",
       " 1            Bike Lane\n",
       " 2   Buffered Bike Lane\n",
       " 3  On-street Connector\n",
       " 4  Protected Bike Lane\n",
       " 5          Shared Lane\n",
       " 6      Shared Use Path\n",
       " 7     Shoulder Bikeway\n",
       " 8                Trail)"
      ]
     },
     "execution_count": 6,
     "metadata": {},
     "output_type": "execute_result"
    }
   ],
   "source": [
    "dataframe"
   ]
  },
  {
   "cell_type": "code",
   "execution_count": 9,
   "metadata": {},
   "outputs": [
    {
     "data": {
      "text/html": [
       "<div>\n",
       "<style scoped>\n",
       "    .dataframe tbody tr th:only-of-type {\n",
       "        vertical-align: middle;\n",
       "    }\n",
       "\n",
       "    .dataframe tbody tr th {\n",
       "        vertical-align: top;\n",
       "    }\n",
       "\n",
       "    .dataframe thead th {\n",
       "        text-align: right;\n",
       "    }\n",
       "</style>\n",
       "<table border=\"1\" class=\"dataframe\">\n",
       "  <thead>\n",
       "    <tr style=\"text-align: right;\">\n",
       "      <th></th>\n",
       "      <th>Type</th>\n",
       "    </tr>\n",
       "  </thead>\n",
       "  <tbody>\n",
       "    <tr>\n",
       "      <th>0</th>\n",
       "      <td>Bike Boulevard</td>\n",
       "    </tr>\n",
       "    <tr>\n",
       "      <th>1</th>\n",
       "      <td>Bike Lane</td>\n",
       "    </tr>\n",
       "    <tr>\n",
       "      <th>2</th>\n",
       "      <td>Buffered Bike Lane</td>\n",
       "    </tr>\n",
       "    <tr>\n",
       "      <th>3</th>\n",
       "      <td>On-street Connector</td>\n",
       "    </tr>\n",
       "    <tr>\n",
       "      <th>4</th>\n",
       "      <td>Protected Bike Lane</td>\n",
       "    </tr>\n",
       "    <tr>\n",
       "      <th>5</th>\n",
       "      <td>Shared Lane</td>\n",
       "    </tr>\n",
       "    <tr>\n",
       "      <th>6</th>\n",
       "      <td>Shared Use Path</td>\n",
       "    </tr>\n",
       "    <tr>\n",
       "      <th>7</th>\n",
       "      <td>Shoulder Bikeway</td>\n",
       "    </tr>\n",
       "    <tr>\n",
       "      <th>8</th>\n",
       "      <td>Trail</td>\n",
       "    </tr>\n",
       "  </tbody>\n",
       "</table>\n",
       "</div>"
      ],
      "text/plain": [
       "                  Type\n",
       "0       Bike Boulevard\n",
       "1            Bike Lane\n",
       "2   Buffered Bike Lane\n",
       "3  On-street Connector\n",
       "4  Protected Bike Lane\n",
       "5          Shared Lane\n",
       "6      Shared Use Path\n",
       "7     Shoulder Bikeway\n",
       "8                Trail"
      ]
     },
     "execution_count": 9,
     "metadata": {},
     "output_type": "execute_result"
    }
   ],
   "source": [
    "dataframe[1]"
   ]
  },
  {
   "cell_type": "code",
   "execution_count": 21,
   "metadata": {},
   "outputs": [
    {
     "ename": "NameError",
     "evalue": "name 'wrfc_buffer_roads_join' is not defined",
     "output_type": "error",
     "traceback": [
      "\u001b[1;31m---------------------------------------------------------------------------\u001b[0m",
      "\u001b[1;31mNameError\u001b[0m                                 Traceback (most recent call last)",
      "\u001b[1;32m<ipython-input-21-2e7dcee27565>\u001b[0m in \u001b[0;36m<module>\u001b[1;34m()\u001b[0m\n\u001b[0;32m      1\u001b[0m \u001b[0mjoinframe\u001b[0m \u001b[1;33m=\u001b[0m \u001b[1;32mNone\u001b[0m\u001b[1;33m\u001b[0m\u001b[0m\n\u001b[1;32m----> 2\u001b[1;33m with arcpy.da.SearchCursor(wrfc_buffer_roads_join,\n\u001b[0m\u001b[0;32m      3\u001b[0m                            ['STATUS', 'BIKE_L', 'BIKE_R', 'BIKE_PLN_L', 'BIKE_PLN_R', 'Status_1', 'Type']) as cursor:\n\u001b[0;32m      4\u001b[0m     \u001b[0mjoinframe\u001b[0m \u001b[1;33m=\u001b[0m \u001b[0mwfrc\u001b[0m\u001b[1;33m.\u001b[0m\u001b[0marcgis_to_pandas\u001b[0m\u001b[1;33m(\u001b[0m\u001b[0mcursor\u001b[0m\u001b[1;33m)\u001b[0m\u001b[1;33m\u001b[0m\u001b[0m\n",
      "\u001b[1;31mNameError\u001b[0m: name 'wrfc_buffer_roads_join' is not defined"
     ]
    }
   ],
   "source": [
    "joinframe = None\n",
    "with arcpy.da.SearchCursor(wrfc_buffer_roads_join,\n",
    "                           ['STATUS', 'BIKE_L', 'BIKE_R', 'BIKE_PLN_L', 'BIKE_PLN_R', 'Status_1', 'Type']) as cursor:\n",
    "    joinframe = wfrc.arcgis_to_pandas(cursor)\n",
    "joinframe.to_pickle('./joinframe.pkl')"
   ]
  },
  {
   "cell_type": "markdown",
   "metadata": {},
   "source": [
    "## Restart the notebook here to load from pickled dataframe"
   ]
  },
  {
   "cell_type": "code",
   "execution_count": 3,
   "metadata": {},
   "outputs": [
    {
     "data": {
      "text/html": [
       "<div>\n",
       "<style scoped>\n",
       "    .dataframe tbody tr th:only-of-type {\n",
       "        vertical-align: middle;\n",
       "    }\n",
       "\n",
       "    .dataframe tbody tr th {\n",
       "        vertical-align: top;\n",
       "    }\n",
       "\n",
       "    .dataframe thead th {\n",
       "        text-align: right;\n",
       "    }\n",
       "</style>\n",
       "<table border=\"1\" class=\"dataframe\">\n",
       "  <thead>\n",
       "    <tr style=\"text-align: right;\">\n",
       "      <th></th>\n",
       "      <th>STATUS</th>\n",
       "      <th>BIKE_L</th>\n",
       "      <th>BIKE_R</th>\n",
       "      <th>BIKE_PLN_L</th>\n",
       "      <th>BIKE_PLN_R</th>\n",
       "      <th>Status_1</th>\n",
       "      <th>Type</th>\n",
       "    </tr>\n",
       "  </thead>\n",
       "  <tbody>\n",
       "    <tr>\n",
       "      <th>0</th>\n",
       "      <td></td>\n",
       "      <td>2B</td>\n",
       "      <td>2B</td>\n",
       "      <td>E</td>\n",
       "      <td>E</td>\n",
       "      <td>Existing</td>\n",
       "      <td>Shoulder Bikeway</td>\n",
       "    </tr>\n",
       "    <tr>\n",
       "      <th>1</th>\n",
       "      <td></td>\n",
       "      <td>2B</td>\n",
       "      <td>2B</td>\n",
       "      <td>E</td>\n",
       "      <td>E</td>\n",
       "      <td>Existing</td>\n",
       "      <td>Shoulder Bikeway</td>\n",
       "    </tr>\n",
       "    <tr>\n",
       "      <th>2</th>\n",
       "      <td></td>\n",
       "      <td>2B</td>\n",
       "      <td>2B</td>\n",
       "      <td>E</td>\n",
       "      <td>E</td>\n",
       "      <td>Existing</td>\n",
       "      <td>Bike Lane</td>\n",
       "    </tr>\n",
       "    <tr>\n",
       "      <th>3</th>\n",
       "      <td></td>\n",
       "      <td>2B</td>\n",
       "      <td>2B</td>\n",
       "      <td>E</td>\n",
       "      <td>E</td>\n",
       "      <td>Existing</td>\n",
       "      <td>Bike Lane</td>\n",
       "    </tr>\n",
       "    <tr>\n",
       "      <th>4</th>\n",
       "      <td></td>\n",
       "      <td>2B</td>\n",
       "      <td>2B</td>\n",
       "      <td>E</td>\n",
       "      <td>E</td>\n",
       "      <td>Existing</td>\n",
       "      <td>Shoulder Bikeway</td>\n",
       "    </tr>\n",
       "    <tr>\n",
       "      <th>5</th>\n",
       "      <td></td>\n",
       "      <td>2B</td>\n",
       "      <td>2B</td>\n",
       "      <td>E</td>\n",
       "      <td>E</td>\n",
       "      <td>Existing</td>\n",
       "      <td>Shoulder Bikeway</td>\n",
       "    </tr>\n",
       "    <tr>\n",
       "      <th>6</th>\n",
       "      <td></td>\n",
       "      <td>2B</td>\n",
       "      <td>2B</td>\n",
       "      <td>P</td>\n",
       "      <td>P</td>\n",
       "      <td>Existing</td>\n",
       "      <td>Shared Lane</td>\n",
       "    </tr>\n",
       "    <tr>\n",
       "      <th>7</th>\n",
       "      <td></td>\n",
       "      <td>2B</td>\n",
       "      <td>2B</td>\n",
       "      <td>E</td>\n",
       "      <td>E</td>\n",
       "      <td>Existing</td>\n",
       "      <td>Shoulder Bikeway</td>\n",
       "    </tr>\n",
       "    <tr>\n",
       "      <th>8</th>\n",
       "      <td></td>\n",
       "      <td>2B</td>\n",
       "      <td>2B</td>\n",
       "      <td>E</td>\n",
       "      <td>E</td>\n",
       "      <td>Existing</td>\n",
       "      <td>Bike Lane</td>\n",
       "    </tr>\n",
       "    <tr>\n",
       "      <th>9</th>\n",
       "      <td></td>\n",
       "      <td>2B</td>\n",
       "      <td>2B</td>\n",
       "      <td>E</td>\n",
       "      <td>E</td>\n",
       "      <td>Existing</td>\n",
       "      <td>Bike Lane</td>\n",
       "    </tr>\n",
       "  </tbody>\n",
       "</table>\n",
       "</div>"
      ],
      "text/plain": [
       "  STATUS BIKE_L BIKE_R BIKE_PLN_L BIKE_PLN_R  Status_1              Type\n",
       "0            2B     2B          E          E  Existing  Shoulder Bikeway\n",
       "1            2B     2B          E          E  Existing  Shoulder Bikeway\n",
       "2            2B     2B          E          E  Existing         Bike Lane\n",
       "3            2B     2B          E          E  Existing         Bike Lane\n",
       "4            2B     2B          E          E  Existing  Shoulder Bikeway\n",
       "5            2B     2B          E          E  Existing  Shoulder Bikeway\n",
       "6            2B     2B          P          P  Existing       Shared Lane\n",
       "7            2B     2B          E          E  Existing  Shoulder Bikeway\n",
       "8            2B     2B          E          E  Existing         Bike Lane\n",
       "9            2B     2B          E          E  Existing         Bike Lane"
      ]
     },
     "execution_count": 3,
     "metadata": {},
     "output_type": "execute_result"
    }
   ],
   "source": [
    "joinframe = pd.read_pickle('./joinframe.pkl')\n",
    "joinframe.head(10)"
   ]
  },
  {
   "cell_type": "markdown",
   "metadata": {},
   "source": [
    "## Count unique values in *Roads* fields for all *WFRC* bike lane Types"
   ]
  },
  {
   "cell_type": "code",
   "execution_count": 20,
   "metadata": {},
   "outputs": [
    {
     "data": {
      "text/html": [
       "<div>\n",
       "<style scoped>\n",
       "    .dataframe tbody tr th:only-of-type {\n",
       "        vertical-align: middle;\n",
       "    }\n",
       "\n",
       "    .dataframe tbody tr th {\n",
       "        vertical-align: top;\n",
       "    }\n",
       "\n",
       "    .dataframe thead th {\n",
       "        text-align: right;\n",
       "    }\n",
       "</style>\n",
       "<table border=\"1\" class=\"dataframe\">\n",
       "  <thead>\n",
       "    <tr style=\"text-align: right;\">\n",
       "      <th></th>\n",
       "      <th>STATUS</th>\n",
       "      <th>BIKE_L</th>\n",
       "      <th>BIKE_R</th>\n",
       "      <th>BIKE_PLN_L</th>\n",
       "      <th>BIKE_PLN_R</th>\n",
       "      <th>Status_1</th>\n",
       "      <th>Type</th>\n",
       "    </tr>\n",
       "    <tr>\n",
       "      <th>Type</th>\n",
       "      <th></th>\n",
       "      <th></th>\n",
       "      <th></th>\n",
       "      <th></th>\n",
       "      <th></th>\n",
       "      <th></th>\n",
       "      <th></th>\n",
       "    </tr>\n",
       "  </thead>\n",
       "  <tbody>\n",
       "    <tr>\n",
       "      <th>Bike Boulevard</th>\n",
       "      <td>1</td>\n",
       "      <td>2</td>\n",
       "      <td>2</td>\n",
       "      <td>1</td>\n",
       "      <td>1</td>\n",
       "      <td>1</td>\n",
       "      <td>1</td>\n",
       "    </tr>\n",
       "    <tr>\n",
       "      <th>Bike Lane</th>\n",
       "      <td>3</td>\n",
       "      <td>6</td>\n",
       "      <td>6</td>\n",
       "      <td>3</td>\n",
       "      <td>3</td>\n",
       "      <td>1</td>\n",
       "      <td>1</td>\n",
       "    </tr>\n",
       "    <tr>\n",
       "      <th>Buffered Bike Lane</th>\n",
       "      <td>1</td>\n",
       "      <td>3</td>\n",
       "      <td>3</td>\n",
       "      <td>3</td>\n",
       "      <td>3</td>\n",
       "      <td>1</td>\n",
       "      <td>1</td>\n",
       "    </tr>\n",
       "    <tr>\n",
       "      <th>On-street Connector</th>\n",
       "      <td>1</td>\n",
       "      <td>1</td>\n",
       "      <td>1</td>\n",
       "      <td>1</td>\n",
       "      <td>1</td>\n",
       "      <td>1</td>\n",
       "      <td>1</td>\n",
       "    </tr>\n",
       "    <tr>\n",
       "      <th>Protected Bike Lane</th>\n",
       "      <td>1</td>\n",
       "      <td>2</td>\n",
       "      <td>2</td>\n",
       "      <td>2</td>\n",
       "      <td>2</td>\n",
       "      <td>1</td>\n",
       "      <td>1</td>\n",
       "    </tr>\n",
       "    <tr>\n",
       "      <th>Shared Lane</th>\n",
       "      <td>1</td>\n",
       "      <td>3</td>\n",
       "      <td>3</td>\n",
       "      <td>3</td>\n",
       "      <td>3</td>\n",
       "      <td>1</td>\n",
       "      <td>1</td>\n",
       "    </tr>\n",
       "    <tr>\n",
       "      <th>Shared Use Path</th>\n",
       "      <td>2</td>\n",
       "      <td>5</td>\n",
       "      <td>5</td>\n",
       "      <td>3</td>\n",
       "      <td>3</td>\n",
       "      <td>1</td>\n",
       "      <td>1</td>\n",
       "    </tr>\n",
       "    <tr>\n",
       "      <th>Shoulder Bikeway</th>\n",
       "      <td>1</td>\n",
       "      <td>4</td>\n",
       "      <td>4</td>\n",
       "      <td>3</td>\n",
       "      <td>3</td>\n",
       "      <td>1</td>\n",
       "      <td>1</td>\n",
       "    </tr>\n",
       "    <tr>\n",
       "      <th>Trail</th>\n",
       "      <td>1</td>\n",
       "      <td>1</td>\n",
       "      <td>1</td>\n",
       "      <td>2</td>\n",
       "      <td>2</td>\n",
       "      <td>1</td>\n",
       "      <td>1</td>\n",
       "    </tr>\n",
       "  </tbody>\n",
       "</table>\n",
       "</div>"
      ],
      "text/plain": [
       "                     STATUS  BIKE_L  BIKE_R  BIKE_PLN_L  BIKE_PLN_R  Status_1  \\\n",
       "Type                                                                            \n",
       "Bike Boulevard            1       2       2           1           1         1   \n",
       "Bike Lane                 3       6       6           3           3         1   \n",
       "Buffered Bike Lane        1       3       3           3           3         1   \n",
       "On-street Connector       1       1       1           1           1         1   \n",
       "Protected Bike Lane       1       2       2           2           2         1   \n",
       "Shared Lane               1       3       3           3           3         1   \n",
       "Shared Use Path           2       5       5           3           3         1   \n",
       "Shoulder Bikeway          1       4       4           3           3         1   \n",
       "Trail                     1       1       1           2           2         1   \n",
       "\n",
       "                     Type  \n",
       "Type                       \n",
       "Bike Boulevard          1  \n",
       "Bike Lane               1  \n",
       "Buffered Bike Lane      1  \n",
       "On-street Connector     1  \n",
       "Protected Bike Lane     1  \n",
       "Shared Lane             1  \n",
       "Shared Use Path         1  \n",
       "Shoulder Bikeway        1  \n",
       "Trail                   1  "
      ]
     },
     "execution_count": 20,
     "metadata": {},
     "output_type": "execute_result"
    }
   ],
   "source": [
    "typegroup = joinframe.groupby('Type')\n",
    "typegroup.nunique()"
   ]
  },
  {
   "cell_type": "code",
   "execution_count": 34,
   "metadata": {},
   "outputs": [],
   "source": [
    "bikel_counts = joinframe.groupby('Type')['BIKE_L'].value_counts()"
   ]
  },
  {
   "cell_type": "code",
   "execution_count": 35,
   "metadata": {},
   "outputs": [
    {
     "data": {
      "text/plain": [
       "Type                 BIKE_L\n",
       "Bike Boulevard       3C          10\n",
       "                     2B           2\n",
       "Bike Lane            2B        1963\n",
       "                                196\n",
       "                     3           12\n",
       "                     3B          10\n",
       "                     3C           6\n",
       "                     1            1\n",
       "Buffered Bike Lane   2B          64\n",
       "                                  7\n",
       "                     3C           1\n",
       "On-street Connector               4\n",
       "Protected Bike Lane  2B          20\n",
       "                     3C           3\n",
       "Shared Lane          3B         615\n",
       "                     2B          83\n",
       "                                 27\n",
       "Shared Use Path      2B         146\n",
       "                                 16\n",
       "                     3B           4\n",
       "                     2C           2\n",
       "                     3C           1\n",
       "Shoulder Bikeway     2B         470\n",
       "                                 21\n",
       "                     3C           4\n",
       "                     3B           2\n",
       "Trail                            15\n",
       "Name: BIKE_L, dtype: int64"
      ]
     },
     "execution_count": 35,
     "metadata": {},
     "output_type": "execute_result"
    }
   ],
   "source": [
    "bikel_counts"
   ]
  },
  {
   "cell_type": "code",
   "execution_count": 37,
   "metadata": {},
   "outputs": [],
   "source": [
    "unique_bikel = typegroup.get_group('Bike Boulevard')['BIKE_L']"
   ]
  },
  {
   "cell_type": "code",
   "execution_count": 38,
   "metadata": {},
   "outputs": [
    {
     "data": {
      "text/plain": [
       "2009    3C\n",
       "2010    3C\n",
       "2011    3C\n",
       "2012    3C\n",
       "2013    3C\n",
       "2014    2B\n",
       "2015    3C\n",
       "2016    3C\n",
       "2017    2B\n",
       "2018    3C\n",
       "2019    3C\n",
       "2023    3C\n",
       "Name: BIKE_L, dtype: object"
      ]
     },
     "execution_count": 38,
     "metadata": {},
     "output_type": "execute_result"
    }
   ],
   "source": [
    "unique_bikel"
   ]
  },
  {
   "cell_type": "code",
   "execution_count": null,
   "metadata": {},
   "outputs": [],
   "source": []
  }
 ],
 "metadata": {
  "kernelspec": {
   "display_name": "Python 3",
   "language": "python",
   "name": "python3"
  },
  "language_info": {
   "codemirror_mode": {
    "name": "ipython",
    "version": 3
   },
   "file_extension": ".py",
   "mimetype": "text/x-python",
   "name": "python",
   "nbconvert_exporter": "python",
   "pygments_lexer": "ipython3",
   "version": "3.6.5"
  }
 },
 "nbformat": 4,
 "nbformat_minor": 2
}
