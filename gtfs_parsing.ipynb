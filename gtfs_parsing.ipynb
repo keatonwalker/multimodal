{
 "cells": [
  {
   "cell_type": "markdown",
   "metadata": {},
   "source": [
    "# Work with the UTA GTFS files"
   ]
  },
  {
   "cell_type": "code",
   "execution_count": 2,
   "metadata": {},
   "outputs": [],
   "source": [
    "import pandas as pd\n",
    "import numpy as np\n",
    "import geopandas as gpd\n",
    "from shapely.geometry import Point, LineString\n",
    "import os\n",
    "\n",
    "%matplotlib inline"
   ]
  },
  {
   "cell_type": "code",
   "execution_count": 3,
   "metadata": {},
   "outputs": [],
   "source": [
    "gtfs_dir = 'utah-transit-authority_20160331_1817'\n",
    "routes = pd.read_csv(os.path.join(gtfs_dir, 'routes.txt'))\n",
    "shapes = pd.read_csv(os.path.join(gtfs_dir, 'shapes.txt'))\n",
    "trips = pd.read_csv(os.path.join(gtfs_dir, 'trips.txt'))\n",
    "stops = pd.read_csv(os.path.join(gtfs_dir, 'stops.txt'))\n",
    "stop_times = pd.read_csv(os.path.join(gtfs_dir, 'stop_times.txt'), dtype={'stop_id': object})\n",
    "calendar = pd.read_csv(os.path.join(gtfs_dir, 'calendar.txt'))"
   ]
  },
  {
   "cell_type": "markdown",
   "metadata": {},
   "source": [
    "# There are some weird stop_ids in stop_times"
   ]
  },
  {
   "cell_type": "code",
   "execution_count": 4,
   "metadata": {},
   "outputs": [
    {
     "data": {
      "text/plain": [
       "1515685"
      ]
     },
     "execution_count": 4,
     "metadata": {},
     "output_type": "execute_result"
    }
   ],
   "source": [
    "len(stop_times)"
   ]
  },
  {
   "cell_type": "code",
   "execution_count": 5,
   "metadata": {},
   "outputs": [],
   "source": [
    "bad_stop_ids = stop_times['stop_id'].apply(lambda x: (not str(x).isnumeric()))"
   ]
  },
  {
   "cell_type": "code",
   "execution_count": 6,
   "metadata": {},
   "outputs": [
    {
     "data": {
      "text/plain": [
       "526"
      ]
     },
     "execution_count": 6,
     "metadata": {},
     "output_type": "execute_result"
    }
   ],
   "source": [
    "bad_stops = stop_times[bad_stop_ids]\n",
    "len(bad_stops)"
   ]
  },
  {
   "cell_type": "code",
   "execution_count": 7,
   "metadata": {},
   "outputs": [
    {
     "data": {
      "text/html": [
       "<div>\n",
       "<style scoped>\n",
       "    .dataframe tbody tr th:only-of-type {\n",
       "        vertical-align: middle;\n",
       "    }\n",
       "\n",
       "    .dataframe tbody tr th {\n",
       "        vertical-align: top;\n",
       "    }\n",
       "\n",
       "    .dataframe thead th {\n",
       "        text-align: right;\n",
       "    }\n",
       "</style>\n",
       "<table border=\"1\" class=\"dataframe\">\n",
       "  <thead>\n",
       "    <tr style=\"text-align: right;\">\n",
       "      <th></th>\n",
       "      <th>trip_id</th>\n",
       "      <th>arrival_time</th>\n",
       "      <th>departure_time</th>\n",
       "      <th>stop_id</th>\n",
       "      <th>stop_sequence</th>\n",
       "      <th>stop_headsign</th>\n",
       "      <th>pickup_type</th>\n",
       "      <th>drop_off_type</th>\n",
       "      <th>shape_dist_traveled</th>\n",
       "      <th>timepoint</th>\n",
       "    </tr>\n",
       "  </thead>\n",
       "  <tbody>\n",
       "    <tr>\n",
       "      <th>1046</th>\n",
       "      <td>2743168</td>\n",
       "      <td>16:53:00</td>\n",
       "      <td>16:53:00</td>\n",
       "      <td>22184_merged_2787228</td>\n",
       "      <td>1</td>\n",
       "      <td>NaN</td>\n",
       "      <td>NaN</td>\n",
       "      <td>NaN</td>\n",
       "      <td>NaN</td>\n",
       "      <td>NaN</td>\n",
       "    </tr>\n",
       "    <tr>\n",
       "      <th>1068</th>\n",
       "      <td>2743169</td>\n",
       "      <td>08:53:00</td>\n",
       "      <td>08:53:00</td>\n",
       "      <td>22184_merged_2787228</td>\n",
       "      <td>1</td>\n",
       "      <td>NaN</td>\n",
       "      <td>NaN</td>\n",
       "      <td>NaN</td>\n",
       "      <td>NaN</td>\n",
       "      <td>NaN</td>\n",
       "    </tr>\n",
       "    <tr>\n",
       "      <th>1138</th>\n",
       "      <td>2743166</td>\n",
       "      <td>14:53:00</td>\n",
       "      <td>14:53:00</td>\n",
       "      <td>22184_merged_2787228</td>\n",
       "      <td>1</td>\n",
       "      <td>NaN</td>\n",
       "      <td>NaN</td>\n",
       "      <td>NaN</td>\n",
       "      <td>NaN</td>\n",
       "      <td>NaN</td>\n",
       "    </tr>\n",
       "    <tr>\n",
       "      <th>1160</th>\n",
       "      <td>2743167</td>\n",
       "      <td>15:53:00</td>\n",
       "      <td>15:53:00</td>\n",
       "      <td>22184_merged_2787228</td>\n",
       "      <td>1</td>\n",
       "      <td>NaN</td>\n",
       "      <td>NaN</td>\n",
       "      <td>NaN</td>\n",
       "      <td>NaN</td>\n",
       "      <td>NaN</td>\n",
       "    </tr>\n",
       "    <tr>\n",
       "      <th>2756</th>\n",
       "      <td>2541878</td>\n",
       "      <td>07:56:00</td>\n",
       "      <td>07:56:00</td>\n",
       "      <td>22184_merged_2787227</td>\n",
       "      <td>3</td>\n",
       "      <td>NaN</td>\n",
       "      <td>NaN</td>\n",
       "      <td>NaN</td>\n",
       "      <td>NaN</td>\n",
       "      <td>NaN</td>\n",
       "    </tr>\n",
       "  </tbody>\n",
       "</table>\n",
       "</div>"
      ],
      "text/plain": [
       "      trip_id arrival_time departure_time               stop_id  \\\n",
       "1046  2743168     16:53:00       16:53:00  22184_merged_2787228   \n",
       "1068  2743169     08:53:00       08:53:00  22184_merged_2787228   \n",
       "1138  2743166     14:53:00       14:53:00  22184_merged_2787228   \n",
       "1160  2743167     15:53:00       15:53:00  22184_merged_2787228   \n",
       "2756  2541878     07:56:00       07:56:00  22184_merged_2787227   \n",
       "\n",
       "      stop_sequence  stop_headsign  pickup_type  drop_off_type  \\\n",
       "1046              1            NaN          NaN            NaN   \n",
       "1068              1            NaN          NaN            NaN   \n",
       "1138              1            NaN          NaN            NaN   \n",
       "1160              1            NaN          NaN            NaN   \n",
       "2756              3            NaN          NaN            NaN   \n",
       "\n",
       "      shape_dist_traveled  timepoint  \n",
       "1046                  NaN        NaN  \n",
       "1068                  NaN        NaN  \n",
       "1138                  NaN        NaN  \n",
       "1160                  NaN        NaN  \n",
       "2756                  NaN        NaN  "
      ]
     },
     "execution_count": 7,
     "metadata": {},
     "output_type": "execute_result"
    }
   ],
   "source": [
    "bad_stops.head(5)"
   ]
  },
  {
   "cell_type": "markdown",
   "metadata": {},
   "source": [
    "# Look at all the files"
   ]
  },
  {
   "cell_type": "code",
   "execution_count": 8,
   "metadata": {},
   "outputs": [
    {
     "data": {
      "text/html": [
       "<div>\n",
       "<style scoped>\n",
       "    .dataframe tbody tr th:only-of-type {\n",
       "        vertical-align: middle;\n",
       "    }\n",
       "\n",
       "    .dataframe tbody tr th {\n",
       "        vertical-align: top;\n",
       "    }\n",
       "\n",
       "    .dataframe thead th {\n",
       "        text-align: right;\n",
       "    }\n",
       "</style>\n",
       "<table border=\"1\" class=\"dataframe\">\n",
       "  <thead>\n",
       "    <tr style=\"text-align: right;\">\n",
       "      <th></th>\n",
       "      <th>route_long_name</th>\n",
       "      <th>route_type</th>\n",
       "      <th>route_text_color</th>\n",
       "      <th>route_color</th>\n",
       "      <th>agency_id</th>\n",
       "      <th>route_id</th>\n",
       "      <th>route_url</th>\n",
       "      <th>route_desc</th>\n",
       "      <th>route_short_name</th>\n",
       "    </tr>\n",
       "  </thead>\n",
       "  <tbody>\n",
       "    <tr>\n",
       "      <th>0</th>\n",
       "      <td>HIGHLAND DRIVE FAST BUS</td>\n",
       "      <td>3</td>\n",
       "      <td>FFFFFF</td>\n",
       "      <td>3333CC</td>\n",
       "      <td>NaN</td>\n",
       "      <td>60988</td>\n",
       "      <td>NaN</td>\n",
       "      <td>NaN</td>\n",
       "      <td>320</td>\n",
       "    </tr>\n",
       "    <tr>\n",
       "      <th>1</th>\n",
       "      <td>3300 SOUTH</td>\n",
       "      <td>3</td>\n",
       "      <td>FFFFFF</td>\n",
       "      <td>3333CC</td>\n",
       "      <td>NaN</td>\n",
       "      <td>60989</td>\n",
       "      <td>NaN</td>\n",
       "      <td>NaN</td>\n",
       "      <td>33</td>\n",
       "    </tr>\n",
       "    <tr>\n",
       "      <th>2</th>\n",
       "      <td>4000 WEST/ DIXIE VALLEY</td>\n",
       "      <td>3</td>\n",
       "      <td>FFFFFF</td>\n",
       "      <td>3333CC</td>\n",
       "      <td>NaN</td>\n",
       "      <td>60982</td>\n",
       "      <td>NaN</td>\n",
       "      <td>NaN</td>\n",
       "      <td>240</td>\n",
       "    </tr>\n",
       "    <tr>\n",
       "      <th>3</th>\n",
       "      <td>4800 WEST</td>\n",
       "      <td>3</td>\n",
       "      <td>FFFFFF</td>\n",
       "      <td>3333CC</td>\n",
       "      <td>NaN</td>\n",
       "      <td>60983</td>\n",
       "      <td>NaN</td>\n",
       "      <td>NaN</td>\n",
       "      <td>248</td>\n",
       "    </tr>\n",
       "    <tr>\n",
       "      <th>4</th>\n",
       "      <td>FOOTHILL BLVD / 2700 EAST</td>\n",
       "      <td>3</td>\n",
       "      <td>FFFFFF</td>\n",
       "      <td>3333CC</td>\n",
       "      <td>NaN</td>\n",
       "      <td>60980</td>\n",
       "      <td>NaN</td>\n",
       "      <td>NaN</td>\n",
       "      <td>228</td>\n",
       "    </tr>\n",
       "  </tbody>\n",
       "</table>\n",
       "</div>"
      ],
      "text/plain": [
       "             route_long_name  route_type route_text_color route_color  \\\n",
       "0    HIGHLAND DRIVE FAST BUS           3           FFFFFF      3333CC   \n",
       "1                 3300 SOUTH           3           FFFFFF      3333CC   \n",
       "2    4000 WEST/ DIXIE VALLEY           3           FFFFFF      3333CC   \n",
       "3                  4800 WEST           3           FFFFFF      3333CC   \n",
       "4  FOOTHILL BLVD / 2700 EAST           3           FFFFFF      3333CC   \n",
       "\n",
       "   agency_id  route_id  route_url  route_desc route_short_name  \n",
       "0        NaN     60988        NaN         NaN              320  \n",
       "1        NaN     60989        NaN         NaN               33  \n",
       "2        NaN     60982        NaN         NaN              240  \n",
       "3        NaN     60983        NaN         NaN              248  \n",
       "4        NaN     60980        NaN         NaN              228  "
      ]
     },
     "execution_count": 8,
     "metadata": {},
     "output_type": "execute_result"
    }
   ],
   "source": [
    "routes.head(5)"
   ]
  },
  {
   "cell_type": "code",
   "execution_count": 9,
   "metadata": {},
   "outputs": [
    {
     "data": {
      "text/html": [
       "<div>\n",
       "<style scoped>\n",
       "    .dataframe tbody tr th:only-of-type {\n",
       "        vertical-align: middle;\n",
       "    }\n",
       "\n",
       "    .dataframe tbody tr th {\n",
       "        vertical-align: top;\n",
       "    }\n",
       "\n",
       "    .dataframe thead th {\n",
       "        text-align: right;\n",
       "    }\n",
       "</style>\n",
       "<table border=\"1\" class=\"dataframe\">\n",
       "  <thead>\n",
       "    <tr style=\"text-align: right;\">\n",
       "      <th></th>\n",
       "      <th>shape_id</th>\n",
       "      <th>shape_pt_lat</th>\n",
       "      <th>shape_pt_lon</th>\n",
       "      <th>shape_pt_sequence</th>\n",
       "      <th>shape_dist_traveled</th>\n",
       "    </tr>\n",
       "  </thead>\n",
       "  <tbody>\n",
       "    <tr>\n",
       "      <th>0</th>\n",
       "      <td>133799</td>\n",
       "      <td>40.390900</td>\n",
       "      <td>-111.577479</td>\n",
       "      <td>1</td>\n",
       "      <td>0.0000</td>\n",
       "    </tr>\n",
       "    <tr>\n",
       "      <th>1</th>\n",
       "      <td>133799</td>\n",
       "      <td>40.390810</td>\n",
       "      <td>-111.577240</td>\n",
       "      <td>2</td>\n",
       "      <td>0.0226</td>\n",
       "    </tr>\n",
       "    <tr>\n",
       "      <th>2</th>\n",
       "      <td>133799</td>\n",
       "      <td>40.390729</td>\n",
       "      <td>-111.577080</td>\n",
       "      <td>3</td>\n",
       "      <td>0.0388</td>\n",
       "    </tr>\n",
       "  </tbody>\n",
       "</table>\n",
       "</div>"
      ],
      "text/plain": [
       "   shape_id  shape_pt_lat  shape_pt_lon  shape_pt_sequence  \\\n",
       "0    133799     40.390900   -111.577479                  1   \n",
       "1    133799     40.390810   -111.577240                  2   \n",
       "2    133799     40.390729   -111.577080                  3   \n",
       "\n",
       "   shape_dist_traveled  \n",
       "0               0.0000  \n",
       "1               0.0226  \n",
       "2               0.0388  "
      ]
     },
     "execution_count": 9,
     "metadata": {},
     "output_type": "execute_result"
    }
   ],
   "source": [
    "shapes.head(3)"
   ]
  },
  {
   "cell_type": "code",
   "execution_count": 10,
   "metadata": {},
   "outputs": [
    {
     "data": {
      "text/html": [
       "<div>\n",
       "<style scoped>\n",
       "    .dataframe tbody tr th:only-of-type {\n",
       "        vertical-align: middle;\n",
       "    }\n",
       "\n",
       "    .dataframe tbody tr th {\n",
       "        vertical-align: top;\n",
       "    }\n",
       "\n",
       "    .dataframe thead th {\n",
       "        text-align: right;\n",
       "    }\n",
       "</style>\n",
       "<table border=\"1\" class=\"dataframe\">\n",
       "  <thead>\n",
       "    <tr style=\"text-align: right;\">\n",
       "      <th></th>\n",
       "      <th>block_id</th>\n",
       "      <th>route_id</th>\n",
       "      <th>direction_id</th>\n",
       "      <th>trip_headsign</th>\n",
       "      <th>shape_id</th>\n",
       "      <th>service_id</th>\n",
       "      <th>trip_id</th>\n",
       "    </tr>\n",
       "  </thead>\n",
       "  <tbody>\n",
       "    <tr>\n",
       "      <th>0</th>\n",
       "      <td>b_889894</td>\n",
       "      <td>63307</td>\n",
       "      <td>1</td>\n",
       "      <td>West Valley Central Station</td>\n",
       "      <td>139215</td>\n",
       "      <td>4_merged_2787276</td>\n",
       "      <td>2729438</td>\n",
       "    </tr>\n",
       "    <tr>\n",
       "      <th>1</th>\n",
       "      <td>b_889894</td>\n",
       "      <td>63307</td>\n",
       "      <td>1</td>\n",
       "      <td>West Valley Central Station</td>\n",
       "      <td>139215</td>\n",
       "      <td>4_merged_2787276</td>\n",
       "      <td>2729439</td>\n",
       "    </tr>\n",
       "    <tr>\n",
       "      <th>2</th>\n",
       "      <td>a_861365</td>\n",
       "      <td>60989</td>\n",
       "      <td>0</td>\n",
       "      <td>Millcreek Station</td>\n",
       "      <td>132480</td>\n",
       "      <td>3_merged_2787242</td>\n",
       "      <td>2510053</td>\n",
       "    </tr>\n",
       "  </tbody>\n",
       "</table>\n",
       "</div>"
      ],
      "text/plain": [
       "   block_id  route_id  direction_id                trip_headsign  shape_id  \\\n",
       "0  b_889894     63307             1  West Valley Central Station    139215   \n",
       "1  b_889894     63307             1  West Valley Central Station    139215   \n",
       "2  a_861365     60989             0            Millcreek Station    132480   \n",
       "\n",
       "         service_id  trip_id  \n",
       "0  4_merged_2787276  2729438  \n",
       "1  4_merged_2787276  2729439  \n",
       "2  3_merged_2787242  2510053  "
      ]
     },
     "execution_count": 10,
     "metadata": {},
     "output_type": "execute_result"
    }
   ],
   "source": [
    "trips.head(3)"
   ]
  },
  {
   "cell_type": "code",
   "execution_count": 12,
   "metadata": {},
   "outputs": [
    {
     "data": {
      "text/html": [
       "<div>\n",
       "<style scoped>\n",
       "    .dataframe tbody tr th:only-of-type {\n",
       "        vertical-align: middle;\n",
       "    }\n",
       "\n",
       "    .dataframe tbody tr th {\n",
       "        vertical-align: top;\n",
       "    }\n",
       "\n",
       "    .dataframe thead th {\n",
       "        text-align: right;\n",
       "    }\n",
       "</style>\n",
       "<table border=\"1\" class=\"dataframe\">\n",
       "  <thead>\n",
       "    <tr style=\"text-align: right;\">\n",
       "      <th></th>\n",
       "      <th>trip_id</th>\n",
       "      <th>arrival_time</th>\n",
       "      <th>departure_time</th>\n",
       "      <th>stop_id</th>\n",
       "      <th>stop_sequence</th>\n",
       "      <th>stop_headsign</th>\n",
       "      <th>pickup_type</th>\n",
       "      <th>drop_off_type</th>\n",
       "      <th>shape_dist_traveled</th>\n",
       "      <th>timepoint</th>\n",
       "    </tr>\n",
       "  </thead>\n",
       "  <tbody>\n",
       "    <tr>\n",
       "      <th>0</th>\n",
       "      <td>2729438</td>\n",
       "      <td>10:13:00</td>\n",
       "      <td>10:13:00</td>\n",
       "      <td>23259</td>\n",
       "      <td>1</td>\n",
       "      <td>NaN</td>\n",
       "      <td>NaN</td>\n",
       "      <td>NaN</td>\n",
       "      <td>NaN</td>\n",
       "      <td>NaN</td>\n",
       "    </tr>\n",
       "    <tr>\n",
       "      <th>1</th>\n",
       "      <td>2729438</td>\n",
       "      <td>10:13:30</td>\n",
       "      <td>10:13:30</td>\n",
       "      <td>22847</td>\n",
       "      <td>2</td>\n",
       "      <td>NaN</td>\n",
       "      <td>NaN</td>\n",
       "      <td>NaN</td>\n",
       "      <td>NaN</td>\n",
       "      <td>NaN</td>\n",
       "    </tr>\n",
       "    <tr>\n",
       "      <th>2</th>\n",
       "      <td>2729438</td>\n",
       "      <td>10:14:16</td>\n",
       "      <td>10:14:16</td>\n",
       "      <td>22831</td>\n",
       "      <td>3</td>\n",
       "      <td>NaN</td>\n",
       "      <td>NaN</td>\n",
       "      <td>NaN</td>\n",
       "      <td>NaN</td>\n",
       "      <td>NaN</td>\n",
       "    </tr>\n",
       "  </tbody>\n",
       "</table>\n",
       "</div>"
      ],
      "text/plain": [
       "   trip_id arrival_time departure_time stop_id  stop_sequence  stop_headsign  \\\n",
       "0  2729438     10:13:00       10:13:00   23259              1            NaN   \n",
       "1  2729438     10:13:30       10:13:30   22847              2            NaN   \n",
       "2  2729438     10:14:16       10:14:16   22831              3            NaN   \n",
       "\n",
       "   pickup_type  drop_off_type  shape_dist_traveled  timepoint  \n",
       "0          NaN            NaN                  NaN        NaN  \n",
       "1          NaN            NaN                  NaN        NaN  \n",
       "2          NaN            NaN                  NaN        NaN  "
      ]
     },
     "execution_count": 12,
     "metadata": {},
     "output_type": "execute_result"
    }
   ],
   "source": [
    "stop_times.head(3)"
   ]
  },
  {
   "cell_type": "code",
   "execution_count": 13,
   "metadata": {},
   "outputs": [
    {
     "data": {
      "text/html": [
       "<div>\n",
       "<style scoped>\n",
       "    .dataframe tbody tr th:only-of-type {\n",
       "        vertical-align: middle;\n",
       "    }\n",
       "\n",
       "    .dataframe tbody tr th {\n",
       "        vertical-align: top;\n",
       "    }\n",
       "\n",
       "    .dataframe thead th {\n",
       "        text-align: right;\n",
       "    }\n",
       "</style>\n",
       "<table border=\"1\" class=\"dataframe\">\n",
       "  <thead>\n",
       "    <tr style=\"text-align: right;\">\n",
       "      <th></th>\n",
       "      <th>service_id</th>\n",
       "      <th>start_date</th>\n",
       "      <th>end_date</th>\n",
       "      <th>monday</th>\n",
       "      <th>tuesday</th>\n",
       "      <th>wednesday</th>\n",
       "      <th>thursday</th>\n",
       "      <th>friday</th>\n",
       "      <th>saturday</th>\n",
       "      <th>sunday</th>\n",
       "    </tr>\n",
       "  </thead>\n",
       "  <tbody>\n",
       "    <tr>\n",
       "      <th>0</th>\n",
       "      <td>23_merged_2787238</td>\n",
       "      <td>20151206</td>\n",
       "      <td>20160409</td>\n",
       "      <td>0</td>\n",
       "      <td>0</td>\n",
       "      <td>0</td>\n",
       "      <td>0</td>\n",
       "      <td>0</td>\n",
       "      <td>0</td>\n",
       "      <td>0</td>\n",
       "    </tr>\n",
       "    <tr>\n",
       "      <th>1</th>\n",
       "      <td>13_merged_2787231</td>\n",
       "      <td>20151206</td>\n",
       "      <td>20160409</td>\n",
       "      <td>0</td>\n",
       "      <td>0</td>\n",
       "      <td>0</td>\n",
       "      <td>0</td>\n",
       "      <td>0</td>\n",
       "      <td>0</td>\n",
       "      <td>0</td>\n",
       "    </tr>\n",
       "    <tr>\n",
       "      <th>2</th>\n",
       "      <td>150804_merged_2787241</td>\n",
       "      <td>20151206</td>\n",
       "      <td>20160409</td>\n",
       "      <td>0</td>\n",
       "      <td>0</td>\n",
       "      <td>0</td>\n",
       "      <td>0</td>\n",
       "      <td>0</td>\n",
       "      <td>0</td>\n",
       "      <td>0</td>\n",
       "    </tr>\n",
       "  </tbody>\n",
       "</table>\n",
       "</div>"
      ],
      "text/plain": [
       "              service_id  start_date  end_date  monday  tuesday  wednesday  \\\n",
       "0      23_merged_2787238    20151206  20160409       0        0          0   \n",
       "1      13_merged_2787231    20151206  20160409       0        0          0   \n",
       "2  150804_merged_2787241    20151206  20160409       0        0          0   \n",
       "\n",
       "   thursday  friday  saturday  sunday  \n",
       "0         0       0         0       0  \n",
       "1         0       0         0       0  \n",
       "2         0       0         0       0  "
      ]
     },
     "execution_count": 13,
     "metadata": {},
     "output_type": "execute_result"
    }
   ],
   "source": [
    "calendar.head(3)"
   ]
  },
  {
   "cell_type": "code",
   "execution_count": 14,
   "metadata": {},
   "outputs": [
    {
     "data": {
      "text/html": [
       "<div>\n",
       "<style scoped>\n",
       "    .dataframe tbody tr th:only-of-type {\n",
       "        vertical-align: middle;\n",
       "    }\n",
       "\n",
       "    .dataframe tbody tr th {\n",
       "        vertical-align: top;\n",
       "    }\n",
       "\n",
       "    .dataframe thead th {\n",
       "        text-align: right;\n",
       "    }\n",
       "</style>\n",
       "<table border=\"1\" class=\"dataframe\">\n",
       "  <thead>\n",
       "    <tr style=\"text-align: right;\">\n",
       "      <th></th>\n",
       "      <th>shape_id</th>\n",
       "      <th>shape_pt_lat</th>\n",
       "      <th>shape_pt_lon</th>\n",
       "      <th>shape_pt_sequence</th>\n",
       "      <th>shape_dist_traveled</th>\n",
       "    </tr>\n",
       "  </thead>\n",
       "  <tbody>\n",
       "    <tr>\n",
       "      <th>0</th>\n",
       "      <td>133799</td>\n",
       "      <td>40.390900</td>\n",
       "      <td>-111.577479</td>\n",
       "      <td>1</td>\n",
       "      <td>0.0000</td>\n",
       "    </tr>\n",
       "    <tr>\n",
       "      <th>1</th>\n",
       "      <td>133799</td>\n",
       "      <td>40.390810</td>\n",
       "      <td>-111.577240</td>\n",
       "      <td>2</td>\n",
       "      <td>0.0226</td>\n",
       "    </tr>\n",
       "    <tr>\n",
       "      <th>2</th>\n",
       "      <td>133799</td>\n",
       "      <td>40.390729</td>\n",
       "      <td>-111.577080</td>\n",
       "      <td>3</td>\n",
       "      <td>0.0388</td>\n",
       "    </tr>\n",
       "  </tbody>\n",
       "</table>\n",
       "</div>"
      ],
      "text/plain": [
       "   shape_id  shape_pt_lat  shape_pt_lon  shape_pt_sequence  \\\n",
       "0    133799     40.390900   -111.577479                  1   \n",
       "1    133799     40.390810   -111.577240                  2   \n",
       "2    133799     40.390729   -111.577080                  3   \n",
       "\n",
       "   shape_dist_traveled  \n",
       "0               0.0000  \n",
       "1               0.0226  \n",
       "2               0.0388  "
      ]
     },
     "execution_count": 14,
     "metadata": {},
     "output_type": "execute_result"
    }
   ],
   "source": [
    "shapes.head(3)"
   ]
  },
  {
   "cell_type": "markdown",
   "metadata": {},
   "source": [
    "# Transform gtfs shapes to lines"
   ]
  },
  {
   "cell_type": "code",
   "execution_count": 26,
   "metadata": {},
   "outputs": [],
   "source": [
    "shapes['coords'] = tuple(zip(shapes['shape_pt_lon'], shapes['shape_pt_lat']))"
   ]
  },
  {
   "cell_type": "code",
   "execution_count": 27,
   "metadata": {},
   "outputs": [],
   "source": [
    "shapes = shapes.sort_values(by=['shape_id', 'shape_pt_sequence'])"
   ]
  },
  {
   "cell_type": "code",
   "execution_count": 28,
   "metadata": {},
   "outputs": [
    {
     "data": {
      "text/html": [
       "<div>\n",
       "<style scoped>\n",
       "    .dataframe tbody tr th:only-of-type {\n",
       "        vertical-align: middle;\n",
       "    }\n",
       "\n",
       "    .dataframe tbody tr th {\n",
       "        vertical-align: top;\n",
       "    }\n",
       "\n",
       "    .dataframe thead th {\n",
       "        text-align: right;\n",
       "    }\n",
       "</style>\n",
       "<table border=\"1\" class=\"dataframe\">\n",
       "  <thead>\n",
       "    <tr style=\"text-align: right;\">\n",
       "      <th></th>\n",
       "      <th>shape_id</th>\n",
       "      <th>shape_pt_lat</th>\n",
       "      <th>shape_pt_lon</th>\n",
       "      <th>shape_pt_sequence</th>\n",
       "      <th>shape_dist_traveled</th>\n",
       "      <th>coords</th>\n",
       "    </tr>\n",
       "  </thead>\n",
       "  <tbody>\n",
       "    <tr>\n",
       "      <th>92322</th>\n",
       "      <td>132426</td>\n",
       "      <td>40.763180</td>\n",
       "      <td>-111.90910</td>\n",
       "      <td>1</td>\n",
       "      <td>0.0000</td>\n",
       "      <td>(-111.9091, 40.76318)</td>\n",
       "    </tr>\n",
       "    <tr>\n",
       "      <th>92323</th>\n",
       "      <td>132426</td>\n",
       "      <td>40.763250</td>\n",
       "      <td>-111.90904</td>\n",
       "      <td>2</td>\n",
       "      <td>0.0093</td>\n",
       "      <td>(-111.90903999999999, 40.76325)</td>\n",
       "    </tr>\n",
       "    <tr>\n",
       "      <th>92324</th>\n",
       "      <td>132426</td>\n",
       "      <td>40.764009</td>\n",
       "      <td>-111.90894</td>\n",
       "      <td>3</td>\n",
       "      <td>0.0130</td>\n",
       "      <td>(-111.90893999999999, 40.764009)</td>\n",
       "    </tr>\n",
       "  </tbody>\n",
       "</table>\n",
       "</div>"
      ],
      "text/plain": [
       "       shape_id  shape_pt_lat  shape_pt_lon  shape_pt_sequence  \\\n",
       "92322    132426     40.763180    -111.90910                  1   \n",
       "92323    132426     40.763250    -111.90904                  2   \n",
       "92324    132426     40.764009    -111.90894                  3   \n",
       "\n",
       "       shape_dist_traveled                            coords  \n",
       "92322               0.0000             (-111.9091, 40.76318)  \n",
       "92323               0.0093   (-111.90903999999999, 40.76325)  \n",
       "92324               0.0130  (-111.90893999999999, 40.764009)  "
      ]
     },
     "execution_count": 28,
     "metadata": {},
     "output_type": "execute_result"
    }
   ],
   "source": [
    "shapes.head(3)"
   ]
  },
  {
   "cell_type": "code",
   "execution_count": 37,
   "metadata": {},
   "outputs": [],
   "source": [
    "line_lists = shapes.groupby('shape_id').agg({'shape_id': 'first', 'shape_dist_traveled': 'sum', 'coords': lambda c: (c.tolist())})"
   ]
  },
  {
   "cell_type": "code",
   "execution_count": 38,
   "metadata": {},
   "outputs": [
    {
     "data": {
      "text/html": [
       "<div>\n",
       "<style scoped>\n",
       "    .dataframe tbody tr th:only-of-type {\n",
       "        vertical-align: middle;\n",
       "    }\n",
       "\n",
       "    .dataframe tbody tr th {\n",
       "        vertical-align: top;\n",
       "    }\n",
       "\n",
       "    .dataframe thead th {\n",
       "        text-align: right;\n",
       "    }\n",
       "</style>\n",
       "<table border=\"1\" class=\"dataframe\">\n",
       "  <thead>\n",
       "    <tr style=\"text-align: right;\">\n",
       "      <th></th>\n",
       "      <th>shape_id</th>\n",
       "      <th>shape_dist_traveled</th>\n",
       "      <th>coords</th>\n",
       "    </tr>\n",
       "    <tr>\n",
       "      <th>shape_id</th>\n",
       "      <th></th>\n",
       "      <th></th>\n",
       "      <th></th>\n",
       "    </tr>\n",
       "  </thead>\n",
       "  <tbody>\n",
       "    <tr>\n",
       "      <th>132426</th>\n",
       "      <td>132426</td>\n",
       "      <td>1360.3743</td>\n",
       "      <td>[(-111.9091, 40.76318), (-111.90903999999999, ...</td>\n",
       "    </tr>\n",
       "    <tr>\n",
       "      <th>132427</th>\n",
       "      <td>132427</td>\n",
       "      <td>1397.7476</td>\n",
       "      <td>[(-111.83755, 40.772409), (-111.837799, 40.772...</td>\n",
       "    </tr>\n",
       "    <tr>\n",
       "      <th>132428</th>\n",
       "      <td>132428</td>\n",
       "      <td>1175.5721</td>\n",
       "      <td>[(-111.89701000000001, 40.7247), (-111.89702, ...</td>\n",
       "    </tr>\n",
       "    <tr>\n",
       "      <th>132429</th>\n",
       "      <td>132429</td>\n",
       "      <td>868.5537</td>\n",
       "      <td>[(-111.83948000000001, 40.77047), (-111.83898,...</td>\n",
       "    </tr>\n",
       "    <tr>\n",
       "      <th>132430</th>\n",
       "      <td>132430</td>\n",
       "      <td>644.1306</td>\n",
       "      <td>[(-111.9091, 40.76318), (-111.90903999999999, ...</td>\n",
       "    </tr>\n",
       "  </tbody>\n",
       "</table>\n",
       "</div>"
      ],
      "text/plain": [
       "          shape_id  shape_dist_traveled  \\\n",
       "shape_id                                  \n",
       "132426      132426            1360.3743   \n",
       "132427      132427            1397.7476   \n",
       "132428      132428            1175.5721   \n",
       "132429      132429             868.5537   \n",
       "132430      132430             644.1306   \n",
       "\n",
       "                                                     coords  \n",
       "shape_id                                                     \n",
       "132426    [(-111.9091, 40.76318), (-111.90903999999999, ...  \n",
       "132427    [(-111.83755, 40.772409), (-111.837799, 40.772...  \n",
       "132428    [(-111.89701000000001, 40.7247), (-111.89702, ...  \n",
       "132429    [(-111.83948000000001, 40.77047), (-111.83898,...  \n",
       "132430    [(-111.9091, 40.76318), (-111.90903999999999, ...  "
      ]
     },
     "execution_count": 38,
     "metadata": {},
     "output_type": "execute_result"
    }
   ],
   "source": [
    "line_lists.head()"
   ]
  },
  {
   "cell_type": "code",
   "execution_count": 41,
   "metadata": {},
   "outputs": [],
   "source": [
    "line_lists['coords'] = line_lists['coords'].apply(LineString)"
   ]
  },
  {
   "cell_type": "code",
   "execution_count": 42,
   "metadata": {},
   "outputs": [
    {
     "data": {
      "text/html": [
       "<div>\n",
       "<style scoped>\n",
       "    .dataframe tbody tr th:only-of-type {\n",
       "        vertical-align: middle;\n",
       "    }\n",
       "\n",
       "    .dataframe tbody tr th {\n",
       "        vertical-align: top;\n",
       "    }\n",
       "\n",
       "    .dataframe thead th {\n",
       "        text-align: right;\n",
       "    }\n",
       "</style>\n",
       "<table border=\"1\" class=\"dataframe\">\n",
       "  <thead>\n",
       "    <tr style=\"text-align: right;\">\n",
       "      <th></th>\n",
       "      <th>shape_id</th>\n",
       "      <th>shape_dist_traveled</th>\n",
       "      <th>coords</th>\n",
       "    </tr>\n",
       "    <tr>\n",
       "      <th>shape_id</th>\n",
       "      <th></th>\n",
       "      <th></th>\n",
       "      <th></th>\n",
       "    </tr>\n",
       "  </thead>\n",
       "  <tbody>\n",
       "    <tr>\n",
       "      <th>132426</th>\n",
       "      <td>132426</td>\n",
       "      <td>1360.3743</td>\n",
       "      <td>LINESTRING (-111.9091 40.76318, -111.90904 40....</td>\n",
       "    </tr>\n",
       "    <tr>\n",
       "      <th>132427</th>\n",
       "      <td>132427</td>\n",
       "      <td>1397.7476</td>\n",
       "      <td>LINESTRING (-111.83755 40.772409, -111.837799 ...</td>\n",
       "    </tr>\n",
       "    <tr>\n",
       "      <th>132428</th>\n",
       "      <td>132428</td>\n",
       "      <td>1175.5721</td>\n",
       "      <td>LINESTRING (-111.89701 40.7247, -111.89702 40....</td>\n",
       "    </tr>\n",
       "    <tr>\n",
       "      <th>132429</th>\n",
       "      <td>132429</td>\n",
       "      <td>868.5537</td>\n",
       "      <td>LINESTRING (-111.83948 40.77047, -111.83898 40...</td>\n",
       "    </tr>\n",
       "    <tr>\n",
       "      <th>132430</th>\n",
       "      <td>132430</td>\n",
       "      <td>644.1306</td>\n",
       "      <td>LINESTRING (-111.9091 40.76318, -111.90904 40....</td>\n",
       "    </tr>\n",
       "  </tbody>\n",
       "</table>\n",
       "</div>"
      ],
      "text/plain": [
       "          shape_id  shape_dist_traveled  \\\n",
       "shape_id                                  \n",
       "132426      132426            1360.3743   \n",
       "132427      132427            1397.7476   \n",
       "132428      132428            1175.5721   \n",
       "132429      132429             868.5537   \n",
       "132430      132430             644.1306   \n",
       "\n",
       "                                                     coords  \n",
       "shape_id                                                     \n",
       "132426    LINESTRING (-111.9091 40.76318, -111.90904 40....  \n",
       "132427    LINESTRING (-111.83755 40.772409, -111.837799 ...  \n",
       "132428    LINESTRING (-111.89701 40.7247, -111.89702 40....  \n",
       "132429    LINESTRING (-111.83948 40.77047, -111.83898 40...  \n",
       "132430    LINESTRING (-111.9091 40.76318, -111.90904 40....  "
      ]
     },
     "execution_count": 42,
     "metadata": {},
     "output_type": "execute_result"
    }
   ],
   "source": [
    "gtfs_shapes = gpd.GeoDataFrame(line_lists, geometry='coords')\n",
    "gtfs_shapes.crs = {'init' :'epsg:4326'}\n",
    "gtfs_shapes.head()"
   ]
  },
  {
   "cell_type": "code",
   "execution_count": 47,
   "metadata": {},
   "outputs": [
    {
     "data": {
      "text/plain": [
       "<matplotlib.axes._subplots.AxesSubplot at 0xbc88a0e4a8>"
      ]
     },
     "execution_count": 47,
     "metadata": {},
     "output_type": "execute_result"
    },
    {
     "data": {
      "image/png": "[encoded data removed]",
      "text/plain": [
       "<Figure size 1800x1080 with 1 Axes>"
      ]
     },
     "metadata": {},
     "output_type": "display_data"
    }
   ],
   "source": [
    "gtfs_shapes.plot(figsize=(25,15))"
   ]
  },
  {
   "cell_type": "code",
   "execution_count": 44,
   "metadata": {},
   "outputs": [
    {
     "name": "stderr",
     "output_type": "stream",
     "text": [
      "C:\\Users\\kwalker\\AppData\\Local\\ESRI\\conda\\envs\\geofun\\lib\\site-packages\\geopandas\\io\\file.py:108: FionaDeprecationWarning: Use fiona.Env() instead.\n",
      "  with fiona.drivers():\n"
     ]
    }
   ],
   "source": [
    "gtfs_shapes.to_file('gtfs_shapes.shp')"
   ]
  },
  {
   "cell_type": "code",
   "execution_count": null,
   "metadata": {},
   "outputs": [],
   "source": []
  }
 ],
 "metadata": {
  "kernelspec": {
   "display_name": "Python 3",
   "language": "python",
   "name": "python3"
  },
  "language_info": {
   "codemirror_mode": {
    "name": "ipython",
    "version": 3
   },
   "file_extension": ".py",
   "mimetype": "text/x-python",
   "name": "python",
   "nbconvert_exporter": "python",
   "pygments_lexer": "ipython3",
   "version": "3.6.5"
  }
 },
 "nbformat": 4,
 "nbformat_minor": 2
}
